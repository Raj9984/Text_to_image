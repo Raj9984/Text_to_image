{
  "nbformat": 4,
  "nbformat_minor": 0,
  "metadata": {
    "colab": {
      "provenance": []
    },
    "kernelspec": {
      "name": "python3",
      "display_name": "Python 3"
    },
    "language_info": {
      "name": "python"
    }
  },
  "cells": [
    {
      "cell_type": "code",
      "execution_count": null,
      "metadata": {
        "id": "vAbvNIrmvaA_"
      },
      "outputs": [],
      "source": [
        "!pip install --upgrade diffusers transformers streamlit -q\n"
      ]
    },
    {
      "cell_type": "code",
      "source": [
        "\n",
        "from pathlib import Path\n",
        "import torch\n",
        "from diffusers import StableDiffusionPipeline\n",
        "import streamlit as st\n",
        "from PIL import Image\n",
        "\n",
        "\n",
        "class txtimg:\n",
        "    device = \"cuda\" if torch.cuda.is_available() else \"cpu\"\n",
        "    seed = 42\n",
        "    generator = torch.Generator(device).manual_seed(seed)\n",
        "    image_gen_steps = 35\n",
        "    image_gen_model_id = \"CompVis/stable-diffusion-v1-4\"\n",
        "    image_gen_size = (397, 397)\n",
        "    image_gen_guidance_scale = 9\n",
        "\n",
        "\n",
        "img_gen_model = StableDiffusionPipeline.from_pretrained(\n",
        "    TIG.image_gen_model_id, torch_dtype=torch.float16, revision=\"fp16\",img_gen_guidance_scale=9\n",
        ")\n",
        "image_gen_model = image_gen_model.to(TIG.device)\n",
        "\n",
        "def generate_image(prompt, model):\n",
        "    image = model(\n",
        "        prompt, num_inference_steps=TIG.image_gen_steps,\n",
        "        generator=TIG.generator,\n",
        "        guidance_scale=TIG.image_gen_guidance_scale\n",
        "    ).images[0]\n",
        "\n",
        "    image = image.resize(TIG.img_gen_size)\n",
        "    image_path = \"generated_image.png\"\n",
        "    image.save(image_path)\n",
        "    return image_path\n",
        "\n",
        "def main():\n",
        "    st.title(\"Text-to-Image Generation with Stable Diffusion\")\n",
        "\n",
        "    text_prompt = st.text_input(\"Enter your text prompt here:\")\n",
        "\n",
        "    if st.button(\"Generate Image\"):\n",
        "        if text_prompt:\n",
        "            image_path = generate_image(text_prompt, image_gen_model)\n",
        "            image = Image.open(image_path)\n",
        "            st.image(image, caption='Generated Image', use_column_width=True)\n",
        "        else:\n",
        "            st.error(\"Please enter a text prompt.\")\n",
        "\n",
        "if __name__ == '__main__':\n",
        "    main()\n"
      ],
      "metadata": {
        "id": "1Ot0yGUrvcbp"
      },
      "execution_count": null,
      "outputs": []
    },
    {
      "cell_type": "code",
      "source": [
        "!pip install pyngrok -q\n",
        "from pyngrok import ngrok\n",
        "\n",
        "\n",
        "ngrok.kill()\n",
        "\n",
        "public_url = ngrok.connect(port='8501')\n",
        "print(f\"Streamlit app running at: {public_url}\")\n",
        "\n",
        "!streamlit run app.py --server.port 8501\n"
      ],
      "metadata": {
        "id": "bxxL5Abmv4PZ"
      },
      "execution_count": null,
      "outputs": []
    }
  ]
}